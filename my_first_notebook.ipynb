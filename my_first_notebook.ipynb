{
  "nbformat": 4,
  "nbformat_minor": 0,
  "metadata": {
    "colab": {
      "name": "my-first-notebook.ipynb",
      "provenance": [],
      "authorship_tag": "ABX9TyMLwETsQZyFcmxccimgpL1S",
      "include_colab_link": true
    },
    "kernelspec": {
      "name": "python3",
      "display_name": "Python 3"
    }
  },
  "cells": [
    {
      "cell_type": "markdown",
      "metadata": {
        "id": "view-in-github",
        "colab_type": "text"
      },
      "source": [
        "<a href=\"https://colab.research.google.com/github/mge15/my-notebooks/blob/main/my_first_notebook.ipynb\" target=\"_parent\"><img src=\"https://colab.research.google.com/assets/colab-badge.svg\" alt=\"Open In Colab\"/></a>"
      ]
    },
    {
      "cell_type": "code",
      "metadata": {
        "colab": {
          "base_uri": "https://localhost:8080/"
        },
        "id": "rdWaPDJsy_ao",
        "outputId": "dbbdd917-e79c-42ce-931c-075a7cb79bce"
      },
      "source": [
        "# This is some example python code\r\n",
        "# These lines starting with # are \"comments\"\r\n",
        "# Don't be confused that # means something different in .md files than .py files\r\n",
        "\r\n",
        "print(\"HELLO WORLD!\")\r\n",
        "\r\n",
        "x = 2 + 2\r\n",
        "print(x)"
      ],
      "execution_count": 1,
      "outputs": [
        {
          "output_type": "stream",
          "text": [
            "HELLO WORLD!\n",
            "4\n"
          ],
          "name": "stdout"
        }
      ]
    },
    {
      "cell_type": "markdown",
      "metadata": {
        "id": "5w7F2BXZz1E0"
      },
      "source": [
        "# My First Notebook!\r\n",
        "\r\n",
        "This is a text cell. It uses the markdown language. The line above is a heading, starting with the # sign. Don't be confused that # means something different in .md and .py files.\r\n",
        "\r\n",
        "We can make links like [this](https://github.com/prof-rossetti/intro-to-python).\r\n",
        "\r\n",
        "And lists too:\r\n",
        "\r\n",
        "  + Item 1\r\n",
        "  + Item 2\r\n",
        "  + Item 3\r\n",
        "\r\n",
        "For more information about Markdown syntax, see the [Markdown Guide](https://guides.github.com/pdfs/markdown-cheatsheet-online.pdf)."
      ]
    }
  ]
}